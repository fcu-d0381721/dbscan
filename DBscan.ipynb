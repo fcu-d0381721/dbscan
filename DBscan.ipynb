{
 "cells": [
  {
   "cell_type": "code",
   "execution_count": 1,
   "metadata": {
    "collapsed": true
   },
   "outputs": [],
   "source": [
    "class visitlit:\n",
    "    def _init_(self, count=0):\n",
    "        self.unvisitedlist=[i for i in range(count)]\n",
    "        self.visitedlist=list()\n",
    "        self.unvisitednum=count \n",
    "    def visit(self, pointId):\n",
    "        self.visitedlist.append(pointId)\n",
    "        self.unvisitedlist.remove(pointId)\n",
    "        self.unvisitednum -= 1"
   ]
  },
  {
   "cell_type": "code",
   "execution_count": 2,
   "metadata": {
    "collapsed": true
   },
   "outputs": [],
   "source": [
    "import numpy as np\n",
    "import matplotlib.pyplot as plt\n",
    "import math\n",
    "import random\n",
    "\n",
    "def dist(a,b):\n",
    "    return math.sqrt(np.power(a-b, 2).sum())\n",
    "    \n",
    "def my_dbscanl(dataSet,eps,minPts):\n",
    "    \n",
    "    nPoints = dataSet.shape[0]\n",
    "    \n",
    "    vPoints = visitlist(count=nPoints)\n",
    "    \n",
    "    k = -1\n",
    "    C = [-1 for i in range(nPoints)]\n",
    "    \n",
    "    while(vPoints.unvisitednum > 0):\n",
    "        p = random.choice(vPoints.unvisitedlist)\n",
    "        vPoints.visit(p)\n",
    "        N = [i for i in range(nPoints) if dist(dataSet[i], dataSet[p])<= eps]\n",
    "        if len(N) >= minPts:\n",
    "            k += 1\n",
    "            C[p] = k\n",
    "            for p1 in N:\n",
    "                if p1 in vPoints.unvisitedlist:\n",
    "                    vPoints.visit(p1)\n",
    "                    M = [i for i in range(nPoints) if dist(dataSet[i], dataSet[p1]) <= eps]\n",
    "                    if len(M) >= minPts:\n",
    "                        for i in M:\n",
    "                            if i not in N:\n",
    "                                N.append(i)\n",
    "                    if C[p1] == -1:\n",
    "                        C[p1] = k\n",
    "        else:\n",
    "            C[p]= -1\n",
    "    return C"
   ]
  }
 ],
 "metadata": {
  "kernelspec": {
   "display_name": "Python 3",
   "language": "python",
   "name": "python3"
  },
  "language_info": {
   "codemirror_mode": {
    "name": "ipython",
    "version": 3
   },
   "file_extension": ".py",
   "mimetype": "text/x-python",
   "name": "python",
   "nbconvert_exporter": "python",
   "pygments_lexer": "ipython3",
   "version": "3.6.2"
  }
 },
 "nbformat": 4,
 "nbformat_minor": 2
}
